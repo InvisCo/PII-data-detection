{
 "cells": [
  {
   "cell_type": "markdown",
   "metadata": {},
   "source": [
    "# Evaluating the spaCy NER model"
   ]
  },
  {
   "cell_type": "code",
   "execution_count": 1,
   "metadata": {},
   "outputs": [],
   "source": [
    "import spacy\n",
    "from spacy.tokens import DocBin\n",
    "from spacy.scorer import Scorer\n",
    "from spacy.training import Example"
   ]
  },
  {
   "cell_type": "code",
   "execution_count": 2,
   "metadata": {},
   "outputs": [
    {
     "name": "stderr",
     "output_type": "stream",
     "text": [
      "c:\\Users\\jagga\\anaconda3\\envs\\ml\\Lib\\site-packages\\tqdm\\auto.py:21: TqdmWarning: IProgress not found. Please update jupyter and ipywidgets. See https://ipywidgets.readthedocs.io/en/stable/user_install.html\n",
      "  from .autonotebook import tqdm as notebook_tqdm\n"
     ]
    }
   ],
   "source": [
    "# Load the trained model\n",
    "nlp = spacy.load(\"./output/model-best\")\n",
    "\n",
    "# Load the test dataset\n",
    "test_data = DocBin().from_disk(\"./data/test.spacy\")\n",
    "test_docs = list(test_data.get_docs(nlp.vocab))\n",
    "\n",
    "# Initialize the scorer\n",
    "scorer = Scorer(default_lang=nlp.lang, default_pipeline=nlp.pipe_names)\n",
    "\n",
    "# Use the model to predict the document entities\n",
    "predictions = [Example(nlp(doc.text), doc) for doc in test_docs]\n",
    "\n",
    "# Score the predictions against the annotations in the test dataset\n",
    "scores = scorer.score(predictions)"
   ]
  },
  {
   "cell_type": "code",
   "execution_count": 3,
   "metadata": {},
   "outputs": [
    {
     "name": "stdout",
     "output_type": "stream",
     "text": [
      "F1\t| Precision\t| Recall\n",
      "0.75\t| 0.82317\t| 0.68878\n",
      "--------------------\n",
      "NAME_STUDENT:\t0.80405\t0.70414\t0.75079\n",
      "URL_PERSONAL:\t1.0\t0.66667\t0.8\n",
      "ID_NUM:\t\t1.0\t0.5\t0.66667\n",
      "EMAIL:\t\t1.0\t1.0\t1.0\n"
     ]
    }
   ],
   "source": [
    "# Print the desired metrics\n",
    "print(\"F1\\t| Precision\\t| Recall\")\n",
    "print(\n",
    "    f\"{round(scores['ents_f'], 5)}\\t| {round(scores['ents_p'], 5)}\\t| {round(scores['ents_r'], 5)}\"\n",
    ")\n",
    "print(\"--------------------\")\n",
    "for label, score in scores[\"ents_per_type\"].items():\n",
    "    tabs = \"\\t\" * (3 - len(label) // 5)\n",
    "    print(\n",
    "        f\"{label}:{tabs}{round(score['p'], 5)}\\t{round(score['r'], 5)}\\t{round(score['f'], 5)}\"\n",
    "    )"
   ]
  }
 ],
 "metadata": {
  "kernelspec": {
   "display_name": "ml",
   "language": "python",
   "name": "python3"
  },
  "language_info": {
   "codemirror_mode": {
    "name": "ipython",
    "version": 3
   },
   "file_extension": ".py",
   "mimetype": "text/x-python",
   "name": "python",
   "nbconvert_exporter": "python",
   "pygments_lexer": "ipython3",
   "version": "3.11.7"
  }
 },
 "nbformat": 4,
 "nbformat_minor": 2
}
