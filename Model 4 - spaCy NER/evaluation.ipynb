{
 "cells": [
  {
   "cell_type": "markdown",
   "metadata": {},
   "source": [
    "# Evaluating the spaCy NER model"
   ]
  },
  {
   "cell_type": "code",
   "execution_count": 1,
   "metadata": {},
   "outputs": [],
   "source": [
    "import spacy\n",
    "from spacy.tokens import DocBin\n",
    "from spacy.scorer import Scorer\n",
    "from spacy.training import Example"
   ]
  },
  {
   "cell_type": "code",
   "execution_count": 2,
   "metadata": {},
   "outputs": [],
   "source": [
    "# Load the trained model\n",
    "nlp = spacy.load(\"./output/model-best\")\n",
    "\n",
    "# Load the test dataset\n",
    "test_data = DocBin().from_disk(\"./data/test.spacy\")\n",
    "test_docs = list(test_data.get_docs(nlp.vocab))\n",
    "\n",
    "# Initialize the scorer\n",
    "scorer = Scorer(default_lang=nlp.lang, default_pipeline=nlp.pipe_names)\n",
    "\n",
    "# Use the model to predict the document entities\n",
    "predictions = [Example(nlp(doc.text), doc) for doc in test_docs]\n",
    "\n",
    "# Score the predictions against the annotations in the test dataset\n",
    "scores = scorer.score(predictions)"
   ]
  },
  {
   "cell_type": "code",
   "execution_count": 3,
   "metadata": {},
   "outputs": [
    {
     "name": "stdout",
     "output_type": "stream",
     "text": [
      "F1-score: 0.5884297520661158\n",
      "Precision: 0.6202090592334495\n",
      "Recall: 0.559748427672956\n",
      "By PII type:\n",
      "\t'NAME_STUDENT': 0.6179775280898876 precision, 0.6297709923664122 recall, 0.6238185255198486 F1\n",
      "\t'ID_NUM': 0.0 precision, 0.0 recall, 0.0 F1\n",
      "\t'EMAIL': 0.0 precision, 0.0 recall, 0.0 F1\n",
      "\t'URL_PERSONAL': 0.65 precision, 0.5416666666666666 recall, 0.5909090909090908 F1\n",
      "\t'STREET_ADDRESS': 0.0 precision, 0.0 recall, 0.0 F1\n",
      "\t'USERNAME': 0.0 precision, 0.0 recall, 0.0 F1\n"
     ]
    }
   ],
   "source": [
    "# Print the desired metrics\n",
    "print(f\"F1-score: {scores['ents_f']}\")\n",
    "print(f\"Precision: {scores['ents_p']}\")\n",
    "print(f\"Recall: {scores['ents_r']}\")\n",
    "print(\"By PII type:\")\n",
    "for label, score in scores[\"ents_per_type\"].items():\n",
    "    print(f\"\\t'{label}': {score['p']} precision, {score['r']} recall, {score['f']} F1\")"
   ]
  }
 ],
 "metadata": {
  "kernelspec": {
   "display_name": "ml",
   "language": "python",
   "name": "python3"
  },
  "language_info": {
   "codemirror_mode": {
    "name": "ipython",
    "version": 3
   },
   "file_extension": ".py",
   "mimetype": "text/x-python",
   "name": "python",
   "nbconvert_exporter": "python",
   "pygments_lexer": "ipython3",
   "version": "3.11.7"
  }
 },
 "nbformat": 4,
 "nbformat_minor": 2
}
