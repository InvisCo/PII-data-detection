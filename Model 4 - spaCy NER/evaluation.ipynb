{
 "cells": [
  {
   "cell_type": "markdown",
   "metadata": {},
   "source": [
    "# Evaluating the spaCy NER model"
   ]
  },
  {
   "cell_type": "code",
   "execution_count": 1,
   "metadata": {},
   "outputs": [],
   "source": [
    "import spacy\n",
    "from spacy.tokens import DocBin\n",
    "from spacy.scorer import Scorer\n",
    "from spacy.training import Example"
   ]
  },
  {
   "cell_type": "code",
   "execution_count": 2,
   "metadata": {},
   "outputs": [
    {
     "name": "stderr",
     "output_type": "stream",
     "text": [
      "c:\\Users\\jagga\\anaconda3\\envs\\ml\\Lib\\site-packages\\tqdm\\auto.py:21: TqdmWarning: IProgress not found. Please update jupyter and ipywidgets. See https://ipywidgets.readthedocs.io/en/stable/user_install.html\n",
      "  from .autonotebook import tqdm as notebook_tqdm\n"
     ]
    }
   ],
   "source": [
    "# Load the trained model\n",
    "nlp = spacy.load(\"./output/model-best\")\n",
    "\n",
    "# Load the test dataset\n",
    "test_data = DocBin().from_disk(\"./data/test.spacy\")\n",
    "test_docs = list(test_data.get_docs(nlp.vocab))\n",
    "\n",
    "# Initialize the scorer\n",
    "scorer = Scorer(default_lang=nlp.lang, default_pipeline=nlp.pipe_names)\n",
    "\n",
    "# Use the model to predict the document entities\n",
    "predictions = [Example(nlp(doc.text), doc) for doc in test_docs]\n",
    "\n",
    "# Score the predictions against the annotations in the test dataset\n",
    "scores = scorer.score(predictions)"
   ]
  },
  {
   "cell_type": "code",
   "execution_count": 3,
   "metadata": {},
   "outputs": [
    {
     "name": "stdout",
     "output_type": "stream",
     "text": [
      "F1-score: 0.7107438016528926\n",
      "Precision: 0.7724550898203593\n",
      "Recall: 0.6581632653061225\n",
      "By PII type:\n",
      "\t'NAME_STUDENT': 0.7834394904458599 precision, 0.727810650887574 recall, 0.7546012269938651 F1\n",
      "\t'URL_PERSONAL': 0.6 precision, 0.6666666666666666 recall, 0.631578947368421 F1\n",
      "\t'ID_NUM': 0.0 precision, 0.0 recall, 0.0 F1\n",
      "\t'EMAIL': 0.0 precision, 0.0 recall, 0.0 F1\n"
     ]
    }
   ],
   "source": [
    "# Print the desired metrics\n",
    "print(f\"F1-score: {scores['ents_f']}\")\n",
    "print(f\"Precision: {scores['ents_p']}\")\n",
    "print(f\"Recall: {scores['ents_r']}\")\n",
    "print(\"By PII type:\")\n",
    "for label, score in scores[\"ents_per_type\"].items():\n",
    "    print(f\"\\t'{label}': {score['p']} precision, {score['r']} recall, {score['f']} F1\")"
   ]
  }
 ],
 "metadata": {
  "kernelspec": {
   "display_name": "ml",
   "language": "python",
   "name": "python3"
  },
  "language_info": {
   "codemirror_mode": {
    "name": "ipython",
    "version": 3
   },
   "file_extension": ".py",
   "mimetype": "text/x-python",
   "name": "python",
   "nbconvert_exporter": "python",
   "pygments_lexer": "ipython3",
   "version": "3.11.7"
  }
 },
 "nbformat": 4,
 "nbformat_minor": 2
}
