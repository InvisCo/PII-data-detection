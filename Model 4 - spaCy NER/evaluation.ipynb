{
 "cells": [
  {
   "cell_type": "markdown",
   "metadata": {},
   "source": [
    "# Evaluating the spaCy NER model"
   ]
  },
  {
   "cell_type": "code",
   "execution_count": 1,
   "metadata": {},
   "outputs": [],
   "source": [
    "import spacy\n",
    "from spacy.tokens import DocBin\n",
    "from spacy.scorer import Scorer\n",
    "from spacy.training import Example"
   ]
  },
  {
   "cell_type": "code",
   "execution_count": 2,
   "metadata": {},
   "outputs": [
    {
     "name": "stderr",
     "output_type": "stream",
     "text": [
      "c:\\Users\\jagga\\anaconda3\\envs\\ml\\Lib\\site-packages\\tqdm\\auto.py:21: TqdmWarning: IProgress not found. Please update jupyter and ipywidgets. See https://ipywidgets.readthedocs.io/en/stable/user_install.html\n",
      "  from .autonotebook import tqdm as notebook_tqdm\n"
     ]
    }
   ],
   "source": [
    "# Load the trained model\n",
    "nlp = spacy.load(\"./output/model-best\")\n",
    "\n",
    "# Load the test dataset\n",
    "test_data = DocBin().from_disk(\"./data/test.spacy\")\n",
    "test_docs = list(test_data.get_docs(nlp.vocab))\n",
    "\n",
    "# Initialize the scorer\n",
    "scorer = Scorer(default_lang=nlp.lang, default_pipeline=nlp.pipe_names)\n",
    "\n",
    "# Use the model to predict the document entities\n",
    "predictions = [Example(nlp(doc.text), doc) for doc in test_docs]\n",
    "\n",
    "# Score the predictions against the annotations in the test dataset\n",
    "scores = scorer.score(predictions)"
   ]
  },
  {
   "cell_type": "code",
   "execution_count": 3,
   "metadata": {},
   "outputs": [
    {
     "name": "stdout",
     "output_type": "stream",
     "text": [
      "F1-score: 0.7548209366391184\n",
      "Precision: 0.8203592814371258\n",
      "Recall: 0.6989795918367347\n",
      "By PII type:\n",
      "\t'NAME_STUDENT': 0.851063829787234 precision, 0.7100591715976331 recall, 0.7741935483870968 F1\n",
      "\t'USERNAME': 0.0 precision, 0.0 recall, 0.0 F1\n",
      "\t'ID_NUM': 0.875 precision, 0.4375 recall, 0.5833333333333334 F1\n",
      "\t'URL_PERSONAL': 0.6153846153846154 precision, 0.8888888888888888 recall, 0.7272727272727274 F1\n",
      "\t'EMAIL': 0.6666666666666666 precision, 1.0 recall, 0.8 F1\n"
     ]
    }
   ],
   "source": [
    "# Print the desired metrics\n",
    "print(f\"F1-score: {scores['ents_f']}\")\n",
    "print(f\"Precision: {scores['ents_p']}\")\n",
    "print(f\"Recall: {scores['ents_r']}\")\n",
    "print(\"By PII type:\")\n",
    "for label, score in scores[\"ents_per_type\"].items():\n",
    "    print(f\"\\t'{label}': {score['p']} precision, {score['r']} recall, {score['f']} F1\")"
   ]
  }
 ],
 "metadata": {
  "kernelspec": {
   "display_name": "ml",
   "language": "python",
   "name": "python3"
  },
  "language_info": {
   "codemirror_mode": {
    "name": "ipython",
    "version": 3
   },
   "file_extension": ".py",
   "mimetype": "text/x-python",
   "name": "python",
   "nbconvert_exporter": "python",
   "pygments_lexer": "ipython3",
   "version": "3.11.7"
  }
 },
 "nbformat": 4,
 "nbformat_minor": 2
}
