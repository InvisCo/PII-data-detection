{
 "cells": [
  {
   "cell_type": "markdown",
   "metadata": {},
   "source": [
    "# Evaluating the spaCy NER model"
   ]
  },
  {
   "cell_type": "code",
   "execution_count": 32,
   "metadata": {},
   "outputs": [],
   "source": [
    "import spacy\n",
    "from spacy.tokens import DocBin\n",
    "from spacy.scorer import Scorer\n",
    "from spacy.training import Example"
   ]
  },
  {
   "cell_type": "code",
   "execution_count": 33,
   "metadata": {},
   "outputs": [],
   "source": [
    "# Load the trained model\n",
    "nlp = spacy.load(\"./output/model-best\")\n",
    "\n",
    "# Load the test dataset\n",
    "test_data = DocBin().from_disk(\"./data/test.spacy\")\n",
    "test_docs = list(test_data.get_docs(nlp.vocab))\n",
    "\n",
    "# Initialize the scorer\n",
    "scorer = Scorer(default_lang=nlp.lang, default_pipeline=nlp.pipe_names)\n",
    "\n",
    "# Use the model to predict the document entities\n",
    "predictions = [Example(nlp(doc.text), doc) for doc in test_docs]\n",
    "\n",
    "# Score the predictions against the annotations in the test dataset\n",
    "scores = scorer.score(predictions)"
   ]
  },
  {
   "cell_type": "code",
   "execution_count": 34,
   "metadata": {},
   "outputs": [
    {
     "name": "stdout",
     "output_type": "stream",
     "text": [
      "F1\t| Precision\t| Recall\n",
      "0.73889\t| 0.81098\t| 0.67857\n",
      "--------------------\n",
      "NAME_STUDENT:\t0.8069\t0.69231\t0.74522\n",
      "URL_PERSONAL:\t0.66667\t0.66667\t0.66667\n",
      "ID_NUM:\t\t1.0\t0.5\t0.66667\n",
      "EMAIL:\t\t1.0\t1.0\t1.0\n"
     ]
    }
   ],
   "source": [
    "# Print the desired metrics\n",
    "print(\"F1\\t| Precision\\t| Recall\")\n",
    "print(\n",
    "    f\"{round(scores['ents_f'], 5)}\\t| {round(scores['ents_p'], 5)}\\t| {round(scores['ents_r'], 5)}\"\n",
    ")\n",
    "print(\"--------------------\")\n",
    "for label, score in scores[\"ents_per_type\"].items():\n",
    "    tabs = \"\\t\" * (3 - len(label) // 5)\n",
    "    print(\n",
    "        f\"{label}:{tabs}{round(score['p'], 5)}\\t{round(score['r'], 5)}\\t{round(score['f'], 5)}\"\n",
    "    )"
   ]
  }
 ],
 "metadata": {
  "kernelspec": {
   "display_name": "ml",
   "language": "python",
   "name": "python3"
  },
  "language_info": {
   "codemirror_mode": {
    "name": "ipython",
    "version": 3
   },
   "file_extension": ".py",
   "mimetype": "text/x-python",
   "name": "python",
   "nbconvert_exporter": "python",
   "pygments_lexer": "ipython3",
   "version": "3.11.7"
  }
 },
 "nbformat": 4,
 "nbformat_minor": 2
}
