{
 "cells": [
  {
   "cell_type": "markdown",
   "metadata": {},
   "source": [
    "# Evaluating the spaCy NER model"
   ]
  },
  {
   "cell_type": "code",
   "execution_count": 76,
   "metadata": {},
   "outputs": [],
   "source": [
    "import json\n",
    "from pathlib import Path\n",
    "\n",
    "import spacy\n",
    "from sklearn.metrics import (\n",
    "    ConfusionMatrixDisplay,\n",
    "    classification_report,\n",
    "    confusion_matrix,\n",
    ")\n",
    "from sklearn.model_selection import train_test_split\n",
    "from spacy.tokens import DocBin"
   ]
  },
  {
   "cell_type": "code",
   "execution_count": 77,
   "metadata": {},
   "outputs": [],
   "source": [
    "TRAINED_MODEL_DIR = Path(\"./trained_models/\")\n",
    "RAW_DATA_FILE = Path(\"./../raw_data/train.json\")"
   ]
  },
  {
   "cell_type": "code",
   "execution_count": 78,
   "metadata": {},
   "outputs": [],
   "source": [
    "# Prepare test data\n",
    "with RAW_DATA_FILE.open(\"r\", encoding=\"utf-8\") as f:\n",
    "    data = json.load(f)\n",
    "_, test_data = train_test_split(data[:1000], test_size=0.2, random_state=42)\n",
    "\n",
    "# Create a blank model for the English language\n",
    "nlp = spacy.blank(\"en\")\n",
    "\n",
    "TEST_DATA = DocBin()\n",
    "for document in test_data:\n",
    "    text = \"\"\n",
    "    current_pos = 0\n",
    "    entities = []\n",
    "    current_entity = None\n",
    "\n",
    "    # Rebuild the text from tokens and whitespace\n",
    "    for token, has_space, label in zip(\n",
    "        document[\"tokens\"], document[\"trailing_whitespace\"], document[\"labels\"]\n",
    "    ):\n",
    "        # Calculate the start and end positions of the token\n",
    "        start = current_pos\n",
    "        end = start + len(token)\n",
    "        text += token\n",
    "        current_pos += len(token)\n",
    "\n",
    "        if has_space:\n",
    "            text += \" \"\n",
    "            current_pos += 1\n",
    "\n",
    "        # Check label to update entity annotations\n",
    "        if label.startswith(\"B-\"):\n",
    "            # Save the previous entity if any\n",
    "            if current_entity:\n",
    "                entities.append(current_entity)\n",
    "\n",
    "            # Extract label type without BIO prefix\n",
    "            label_type = label.split(\"-\", 1)[1]\n",
    "            current_entity = (start, end, label_type)\n",
    "\n",
    "        elif label.startswith(\"I-\") and current_entity:\n",
    "            # Update the end of the current entity if label is continuation\n",
    "            _, _, label_type = current_entity\n",
    "            current_entity = (current_entity[0], end, label_type)\n",
    "\n",
    "        else:\n",
    "            # Save the previous entity if it's the end of an entity\n",
    "            if current_entity:\n",
    "                entities.append(current_entity)\n",
    "                current_entity = None\n",
    "\n",
    "    # Ensure the last entity is added if the document ends with an entity\n",
    "    if current_entity:\n",
    "        entities.append(current_entity)\n",
    "\n",
    "    # Create a Doc object and set its entities\n",
    "    doc = nlp.make_doc(text)\n",
    "    ents = [\n",
    "        doc.char_span(start, end, label=label)\n",
    "        for start, end, label in entities\n",
    "        if doc.char_span(start, end, label=label) is not None\n",
    "    ]\n",
    "    doc.ents = ents\n",
    "\n",
    "    # Add processed document to DocBin\n",
    "    TEST_DATA.add(doc)"
   ]
  },
  {
   "cell_type": "code",
   "execution_count": 79,
   "metadata": {},
   "outputs": [],
   "source": [
    "def predict_model(model: Path, test_data: DocBin):\n",
    "    \"\"\"Predicts entities using the trained model and returns the actual and predicted entities.\"\"\"\n",
    "    # Load the trained model\n",
    "    print(f'Loading model \"{model}\"...')\n",
    "    nlp = spacy.load(model)\n",
    "\n",
    "    # Load the test docs\n",
    "    test_docs = list(test_data.get_docs(nlp.vocab))\n",
    "\n",
    "    entities = {\"actual\": [], \"predicted\": []}\n",
    "\n",
    "    print(\"Predicting entities...\")\n",
    "    for doc in test_docs:\n",
    "        # Gather the actual and predicted entities\n",
    "        actual_entities = [(ent.start, ent.end, ent.label_) for ent in doc.ents]\n",
    "        predicted_entities = [\n",
    "            (ent.start, ent.end, ent.label_) for ent in nlp(doc.text).ents\n",
    "        ]\n",
    "\n",
    "        actual_index = 0\n",
    "        predicted_index = 0\n",
    "\n",
    "        # print(f\"\\nTOTAL A: {len(actual_entities)}, P: {len(predicted_entities)}\")\n",
    "        while actual_index < len(actual_entities) and predicted_index < len(\n",
    "            predicted_entities\n",
    "        ):\n",
    "            # print(f\"Actual: {actual_index}, Predicted: {predicted_index}\")\n",
    "            actual_start, actual_end, actual_label = actual_entities[actual_index]\n",
    "            predicted_start, predicted_end, predicted_label = predicted_entities[\n",
    "                predicted_index\n",
    "            ]\n",
    "\n",
    "            # False negative\n",
    "            if actual_start < predicted_start:\n",
    "                # print(\"False negative\")\n",
    "                entities[\"actual\"].append(actual_label)\n",
    "                entities[\"predicted\"].append(\"-\")\n",
    "                actual_index += 1\n",
    "                continue\n",
    "\n",
    "            # False positive\n",
    "            if actual_start > predicted_start:\n",
    "                # print(\"False positive\")\n",
    "                entities[\"actual\"].append(\"-\")\n",
    "                entities[\"predicted\"].append(predicted_label)\n",
    "                predicted_index += 1\n",
    "                continue\n",
    "\n",
    "            # if actual_start == predicted_start:\n",
    "            # True positive\n",
    "            if actual_end == predicted_end:\n",
    "                # print(\"True positive\")\n",
    "                entities[\"actual\"].append(actual_label)\n",
    "                entities[\"predicted\"].append(predicted_label)\n",
    "                actual_index += 1\n",
    "                predicted_index += 1\n",
    "                continue\n",
    "\n",
    "            # if actual_start == predicted_start:\n",
    "            # actual entity is shorter than predicted entity\n",
    "            if actual_end < predicted_end:\n",
    "                # print(\"Actual < predicted\")\n",
    "                entities[\"actual\"].append(actual_label)\n",
    "                entities[\"predicted\"].append(predicted_label)\n",
    "                actual_index += 1\n",
    "                predicted_index += 1\n",
    "                # Keep adding actual entities until we reach the end of the predicted entity\n",
    "                while actual_end < predicted_end:\n",
    "                    # print(f\"Adding actual entity {actual_index}...\")\n",
    "                    actual_index += 1\n",
    "                    if actual_index < len(actual_entities):\n",
    "                        actual_start, actual_end, actual_label = actual_entities[\n",
    "                            actual_index\n",
    "                        ]\n",
    "                    else:\n",
    "                        break\n",
    "                continue\n",
    "\n",
    "            # if actual_start == predicted_start:\n",
    "            # actual entity is longer than predicted entity\n",
    "            if actual_end > predicted_end:\n",
    "                # print(\"Actual > predicted\")\n",
    "                entities[\"actual\"].append(actual_label)\n",
    "                entities[\"predicted\"].append(predicted_label)\n",
    "                actual_index += 1\n",
    "                predicted_index += 1\n",
    "                # Keep adding predicted entities until we reach the end of the actual entity\n",
    "                while actual_end > predicted_end:\n",
    "                    # print(f\"Adding predicted entity {predicted_index}...\")\n",
    "                    predicted_index += 1\n",
    "                    if predicted_index < len(predicted_entities):\n",
    "                        predicted_start, predicted_end, predicted_label = (\n",
    "                            predicted_entities[predicted_index]\n",
    "                        )\n",
    "                    else:\n",
    "                        break\n",
    "                continue\n",
    "\n",
    "    print(\"Done predicting entities...\")\n",
    "    return entities\n"
   ]
  },
  {
   "cell_type": "code",
   "execution_count": 80,
   "metadata": {},
   "outputs": [],
   "source": [
    "def evaluate_entities(entities: dict[str, list]):\n",
    "    \"\"\"Evaluates the actual and predicted entities and returns the classification report and confusion matrix.\"\"\"\n",
    "    print(\"Evaluating entities...\")\n",
    "    print(classification_report(entities[\"actual\"], entities[\"predicted\"]))\n",
    "\n",
    "    return classification_report"
   ]
  },
  {
   "cell_type": "code",
   "execution_count": 88,
   "metadata": {},
   "outputs": [
    {
     "ename": "SyntaxError",
     "evalue": "f-string expression part cannot include a backslash (3077184622.py, line 5)",
     "output_type": "error",
     "traceback": [
      "\u001b[1;36m  Cell \u001b[1;32mIn[88], line 5\u001b[1;36m\u001b[0m\n\u001b[1;33m    print(f'Labels\\n{[f\"  {i}: {label}\\n\" for i, label in enumerate(labels)]}')\u001b[0m\n\u001b[1;37m                                                                              ^\u001b[0m\n\u001b[1;31mSyntaxError\u001b[0m\u001b[1;31m:\u001b[0m f-string expression part cannot include a backslash\n"
     ]
    }
   ],
   "source": [
    "def plot_confusion_matrix(entities: dict[str, list]):\n",
    "    \"\"\"Plots the confusion matrix.\"\"\"\n",
    "    # Display the labels used in the confusion matrix\n",
    "    labels = list(set(entities[\"actual\"]))\n",
    "    print(f'Labels: {labels}')\n",
    "\n",
    "    print(\"Plotting confusion matrix...\")\n",
    "    cm = confusion_matrix(entities[\"actual\"], entities[\"predicted\"])\n",
    "    ConfusionMatrixDisplay(cm).plot()\n"
   ]
  },
  {
   "cell_type": "code",
   "execution_count": 82,
   "metadata": {},
   "outputs": [
    {
     "name": "stdout",
     "output_type": "stream",
     "text": [
      "Loading model \"trained_models\\model-B-06\"...\n",
      "Predicting entities...\n",
      "Done predicting entities...\n",
      "actual 159\n",
      "predicted 159\n"
     ]
    }
   ],
   "source": [
    "prediction = predict_model(TRAINED_MODEL_DIR / \"model-B-06/\", TEST_DATA)\n",
    "for k, lst in prediction.items():\n",
    "    print(k, len(lst))\n"
   ]
  },
  {
   "cell_type": "code",
   "execution_count": 85,
   "metadata": {},
   "outputs": [
    {
     "name": "stdout",
     "output_type": "stream",
     "text": [
      "Evaluating entities...\n",
      "              precision    recall  f1-score   support\n",
      "\n",
      "           -       0.00      0.00      0.00        13\n",
      "       EMAIL       1.00      1.00      1.00         2\n",
      "      ID_NUM       1.00      0.64      0.78        11\n",
      "NAME_STUDENT       0.90      0.94      0.92       125\n",
      "URL_PERSONAL       1.00      0.88      0.93         8\n",
      "\n",
      "    accuracy                           0.84       159\n",
      "   macro avg       0.78      0.69      0.73       159\n",
      "weighted avg       0.84      0.84      0.83       159\n",
      "\n",
      "Labels: ['-', 'URL_PERSONAL', 'NAME_STUDENT', 'EMAIL', 'ID_NUM']\n",
      "Plotting confusion matrix...\n"
     ]
    },
    {
     "data": {
      "image/png": "[encoded data removed]",
      "text/plain": [
       "<Figure size 640x480 with 2 Axes>"
      ]
     },
     "metadata": {},
     "output_type": "display_data"
    }
   ],
   "source": [
    "score = evaluate_entities(prediction)\n",
    "plot_confusion_matrix(prediction)\n"
   ]
  },
  {
   "cell_type": "code",
   "execution_count": 84,
   "metadata": {},
   "outputs": [],
   "source": [
    "# all_models = list(TRAINED_MODEL_DIR.glob(\"*/\"))\n",
    "# all_model_results = {}\n",
    "\n",
    "# for model in all_models:\n",
    "#     prediction = predict_model(model, TEST_DATA)\n",
    "#     for k, lst in prediction.items():\n",
    "#         print(k, len(lst))\n",
    "#     score = evaluate_entities(prediction)\n",
    "#     all_model_results[model] = {\"score\": score, \"entities\": prediction}"
   ]
  }
 ],
 "metadata": {
  "kernelspec": {
   "display_name": "ml",
   "language": "python",
   "name": "python3"
  },
  "language_info": {
   "codemirror_mode": {
    "name": "ipython",
    "version": 3
   },
   "file_extension": ".py",
   "mimetype": "text/x-python",
   "name": "python",
   "nbconvert_exporter": "python",
   "pygments_lexer": "ipython3",
   "version": "3.11.7"
  }
 },
 "nbformat": 4,
 "nbformat_minor": 2
}
