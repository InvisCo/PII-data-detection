{
 "cells": [
  {
   "cell_type": "markdown",
   "metadata": {},
   "source": [
    "# Baseline Logistic Regression Model"
   ]
  },
  {
   "cell_type": "markdown",
   "metadata": {},
   "source": [
    "**Gathering Data**"
   ]
  },
  {
   "cell_type": "code",
   "execution_count": 1,
   "metadata": {},
   "outputs": [],
   "source": [
    "# Add all imports related to data engineering\n",
    "import json\n",
    "import numpy as np\n",
    "import pandas as pd"
   ]
  },
  {
   "cell_type": "code",
   "execution_count": 2,
   "metadata": {},
   "outputs": [
    {
     "name": "stdout",
     "output_type": "stream",
     "text": [
      "10\n"
     ]
    }
   ],
   "source": [
    "# Import the training json file, then close the file\n",
    "file = open(\"raw_data/train.json\")\n",
    "raw_data = json.load(file)\n",
    "file.close()"
   ]
  },
  {
   "cell_type": "code",
   "execution_count": 3,
   "metadata": {},
   "outputs": [],
   "source": [
    "# Got the txt file from here: https://gist.github.com/deekayen/4148741\n",
    "\n",
    "# Common words List to hold common words\n",
    "common_word_list = [\"\\n\\n\", \"\\n\", '.', 'for', 'and', 'to', 'of', 'with', 'are', 'on', 'a','the', 'i', 'at', 'was', 'he', 'she', 'in', 'it', 'as', 'with']"
   ]
  },
  {
   "cell_type": "code",
   "execution_count": 4,
   "metadata": {},
   "outputs": [],
   "source": [
    "# A function to get rid of the 1000 most common used words\n",
    "def common_word_drop(token_list, whitespace_list, label_list):\n",
    "    for word in common_word_list:\n",
    "        if word in token_list:\n",
    "            indices = [i for i, x in enumerate(token_list) if x.lower() == word]\n",
    "            token_list = [token_list[i] for i in range(len(token_list)) if i not in indices]\n",
    "            whitespace_list = [whitespace_list[i] for i in range(len(whitespace_list)) if i not in indices]\n",
    "            label_list = [label_list[i] for i in range(len(label_list)) if i not in indices]\n",
    "\n",
    "    return token_list, whitespace_list, label_list"
   ]
  },
  {
   "cell_type": "code",
   "execution_count": 5,
   "metadata": {},
   "outputs": [],
   "source": [
    "def engineer_data_for_model(data):\n",
    "\n",
    "    # Get the first value from the data\n",
    "    first_doc = data[0]\n",
    "\n",
    "    # Get rid of common words\n",
    "    tokens, white_spaces, labels = common_word_drop(first_doc['tokens'], first_doc['trailing_whitespace'], first_doc['labels'])\n",
    "\n",
    "    # Create the initial dataframe from the above data\n",
    "    first_doc_data = {\n",
    "        \"tokens\": tokens,\n",
    "        \"trailing_whitespaces\": white_spaces,\n",
    "        \"capitalized first char\": [True if label[0].isupper() else False for label in tokens],\n",
    "        \"token length\": [len(token) for token in tokens],\n",
    "        \"is_numeric\": [True if token.isnumeric() else False for token in tokens],\n",
    "        \"PII label\": [False if label == \"O\" else True for label in labels]\n",
    "    }\n",
    "    raw_df = pd.DataFrame(first_doc_data)\n",
    "\n",
    "    # Loop till the end of the data\n",
    "    for document in data[1: len(data) - 1]:\n",
    "\n",
    "        # Get rid of common words\n",
    "        tokens, white_spaces, labels = common_word_drop(first_doc['tokens'], first_doc['trailing_whitespace'], first_doc['labels'])\n",
    "\n",
    "        # Collect the data in the same way\n",
    "        doc_data = {\n",
    "            \"tokens\": tokens,\n",
    "            \"trailing_whitespaces\": white_spaces,\n",
    "            \"capitalized first char\": [True if label[0].isupper() else False for label in tokens],\n",
    "            \"token length\": [len(token) for token in tokens],\n",
    "            \"is_numeric\": [True if token.isnumeric() else False for token in tokens],\n",
    "            \"PII label\": [False if label == \"O\" else True for label in labels]\n",
    "        }\n",
    "        df = pd.DataFrame(doc_data)\n",
    "\n",
    "        # Concatenate all the data into one single dataframe\n",
    "        raw_df = pd.concat([raw_df, df], ignore_index=True, sort=False)\n",
    "\n",
    "    # Return the concatenated dataframe\n",
    "    return raw_df\n"
   ]
  },
  {
   "cell_type": "code",
   "execution_count": 6,
   "metadata": {},
   "outputs": [
    {
     "data": {
      "text/html": [
       "<div>\n",
       "<style scoped>\n",
       "    .dataframe tbody tr th:only-of-type {\n",
       "        vertical-align: middle;\n",
       "    }\n",
       "\n",
       "    .dataframe tbody tr th {\n",
       "        vertical-align: top;\n",
       "    }\n",
       "\n",
       "    .dataframe thead th {\n",
       "        text-align: right;\n",
       "    }\n",
       "</style>\n",
       "<table border=\"1\" class=\"dataframe\">\n",
       "  <thead>\n",
       "    <tr style=\"text-align: right;\">\n",
       "      <th></th>\n",
       "      <th>tokens</th>\n",
       "      <th>trailing_whitespaces</th>\n",
       "      <th>capitalized first char</th>\n",
       "      <th>token length</th>\n",
       "      <th>is_numeric</th>\n",
       "      <th>PII label</th>\n",
       "    </tr>\n",
       "  </thead>\n",
       "  <tbody>\n",
       "    <tr>\n",
       "      <th>0</th>\n",
       "      <td>Design</td>\n",
       "      <td>True</td>\n",
       "      <td>True</td>\n",
       "      <td>6</td>\n",
       "      <td>False</td>\n",
       "      <td>False</td>\n",
       "    </tr>\n",
       "    <tr>\n",
       "      <th>1</th>\n",
       "      <td>Thinking</td>\n",
       "      <td>True</td>\n",
       "      <td>True</td>\n",
       "      <td>8</td>\n",
       "      <td>False</td>\n",
       "      <td>False</td>\n",
       "    </tr>\n",
       "    <tr>\n",
       "      <th>2</th>\n",
       "      <td>innovation</td>\n",
       "      <td>True</td>\n",
       "      <td>False</td>\n",
       "      <td>10</td>\n",
       "      <td>False</td>\n",
       "      <td>False</td>\n",
       "    </tr>\n",
       "    <tr>\n",
       "      <th>3</th>\n",
       "      <td>reflexion</td>\n",
       "      <td>False</td>\n",
       "      <td>False</td>\n",
       "      <td>9</td>\n",
       "      <td>False</td>\n",
       "      <td>False</td>\n",
       "    </tr>\n",
       "    <tr>\n",
       "      <th>4</th>\n",
       "      <td>-</td>\n",
       "      <td>False</td>\n",
       "      <td>False</td>\n",
       "      <td>1</td>\n",
       "      <td>False</td>\n",
       "      <td>False</td>\n",
       "    </tr>\n",
       "    <tr>\n",
       "      <th>...</th>\n",
       "      <td>...</td>\n",
       "      <td>...</td>\n",
       "      <td>...</td>\n",
       "      <td>...</td>\n",
       "      <td>...</td>\n",
       "      <td>...</td>\n",
       "    </tr>\n",
       "    <tr>\n",
       "      <th>52069</th>\n",
       "      <td>Mind</td>\n",
       "      <td>True</td>\n",
       "      <td>True</td>\n",
       "      <td>4</td>\n",
       "      <td>False</td>\n",
       "      <td>False</td>\n",
       "    </tr>\n",
       "    <tr>\n",
       "      <th>52070</th>\n",
       "      <td>Map</td>\n",
       "      <td>True</td>\n",
       "      <td>True</td>\n",
       "      <td>3</td>\n",
       "      <td>False</td>\n",
       "      <td>False</td>\n",
       "    </tr>\n",
       "    <tr>\n",
       "      <th>52071</th>\n",
       "      <td>Shared</td>\n",
       "      <td>True</td>\n",
       "      <td>True</td>\n",
       "      <td>6</td>\n",
       "      <td>False</td>\n",
       "      <td>False</td>\n",
       "    </tr>\n",
       "    <tr>\n",
       "      <th>52072</th>\n",
       "      <td>facilities</td>\n",
       "      <td>True</td>\n",
       "      <td>False</td>\n",
       "      <td>10</td>\n",
       "      <td>False</td>\n",
       "      <td>False</td>\n",
       "    </tr>\n",
       "    <tr>\n",
       "      <th>52073</th>\n",
       "      <td>project</td>\n",
       "      <td>False</td>\n",
       "      <td>False</td>\n",
       "      <td>7</td>\n",
       "      <td>False</td>\n",
       "      <td>False</td>\n",
       "    </tr>\n",
       "  </tbody>\n",
       "</table>\n",
       "<p>52074 rows × 6 columns</p>\n",
       "</div>"
      ],
      "text/plain": [
       "           tokens  trailing_whitespaces  capitalized first char  token length  \\\n",
       "0          Design                  True                    True             6   \n",
       "1        Thinking                  True                    True             8   \n",
       "2      innovation                  True                   False            10   \n",
       "3       reflexion                 False                   False             9   \n",
       "4               -                 False                   False             1   \n",
       "...           ...                   ...                     ...           ...   \n",
       "52069        Mind                  True                    True             4   \n",
       "52070         Map                  True                    True             3   \n",
       "52071      Shared                  True                    True             6   \n",
       "52072  facilities                  True                   False            10   \n",
       "52073     project                 False                   False             7   \n",
       "\n",
       "       is_numeric  PII label  \n",
       "0           False      False  \n",
       "1           False      False  \n",
       "2           False      False  \n",
       "3           False      False  \n",
       "4           False      False  \n",
       "...           ...        ...  \n",
       "52069       False      False  \n",
       "52070       False      False  \n",
       "52071       False      False  \n",
       "52072       False      False  \n",
       "52073       False      False  \n",
       "\n",
       "[52074 rows x 6 columns]"
      ]
     },
     "execution_count": 6,
     "metadata": {},
     "output_type": "execute_result"
    }
   ],
   "source": [
    "# Get the training data\n",
    "training_data = engineer_data_for_model(raw_data[0:100])\n",
    "training_data"
   ]
  },
  {
   "cell_type": "markdown",
   "metadata": {},
   "source": [
    "**One-hot Encoding**"
   ]
  },
  {
   "cell_type": "code",
   "execution_count": null,
   "metadata": {},
   "outputs": [],
   "source": []
  },
  {
   "cell_type": "code",
   "execution_count": null,
   "metadata": {},
   "outputs": [],
   "source": [
    "x_train = []\n",
    "y_train = []\n",
    "x_test = []\n",
    "y_test = []"
   ]
  },
  {
   "cell_type": "markdown",
   "metadata": {},
   "source": [
    "**Model**"
   ]
  },
  {
   "cell_type": "code",
   "execution_count": null,
   "metadata": {},
   "outputs": [],
   "source": [
    "# import needed classes\n",
    "from sklearn import metrics\n",
    "from sklearn.linear_model import LogisticRegression\n",
    "from sklearn.metrics import classification_report\n",
    "import numpy as np\n",
    "import matplotlib.pyplot as plt\n",
    "import seaborn as sns\n",
    "import Text\n",
    "\n",
    "# instantiate the model (using the default parameters)\n",
    "logreg = LogisticRegression(random_state=16)\n",
    "\n",
    "# fit the model with data\n",
    "logreg.fit(x_train, y_train)\n",
    "\n",
    "y_pred = logreg.predict(x_test)"
   ]
  },
  {
   "cell_type": "code",
   "execution_count": null,
   "metadata": {},
   "outputs": [],
   "source": [
    "\n",
    "cnf_matrix = metrics.confusion_matrix(y_test, y_pred)\n",
    "cnf_matrix"
   ]
  },
  {
   "cell_type": "code",
   "execution_count": null,
   "metadata": {},
   "outputs": [],
   "source": [
    "class_names = [0,1]\n",
    "\n",
    "fig, ax = plt.subplots()\n",
    "tick_marks = np.arange(len(class_names))\n",
    "plt.xticks(tick_marks, class_names)\n",
    "plt.yticks(tick_marks, class_names)\n",
    "\n",
    "# create heatmap\n",
    "sns.heatmap(pd.DataFrame(cnf_matrix), annot=True, cmap=\"YlGnBu\" ,fmt='g')\n",
    "ax.xaxis.set_label_position(\"top\")\n",
    "plt.tight_layout()\n",
    "plt.title('Confusion matrix', y=1.1)\n",
    "plt.ylabel('Actual label')\n",
    "plt.xlabel('Predicted label')\n",
    "\n",
    "Text(0.5,257.44,'Predicted label')"
   ]
  },
  {
   "cell_type": "code",
   "execution_count": null,
   "metadata": {},
   "outputs": [],
   "source": [
    "target_names = ['Non-PII-Data', 'PII-Data']\n",
    "\n",
    "print(classification_report(y_test, y_pred, target_names=target_names))"
   ]
  },
  {
   "cell_type": "code",
   "execution_count": null,
   "metadata": {},
   "outputs": [],
   "source": [
    "y_pred_proba = logreg.predict_proba(x_test)[::,1]\n",
    "\n",
    "fpr, tpr, _ = metrics.roc_curve(y_test,  y_pred_proba)\n",
    "auc = metrics.roc_auc_score(y_test, y_pred_proba)\n",
    "\n",
    "plt.plot(fpr,tpr,label=\"data 1, auc=\"+str(auc))\n",
    "plt.legend(loc=4)\n",
    "plt.show()"
   ]
  }
 ],
 "metadata": {
  "kernelspec": {
   "display_name": "Python 3",
   "language": "python",
   "name": "python3"
  },
  "language_info": {
   "codemirror_mode": {
    "name": "ipython",
    "version": 3
   },
   "file_extension": ".py",
   "mimetype": "text/x-python",
   "name": "python",
   "nbconvert_exporter": "python",
   "pygments_lexer": "ipython3",
   "version": "3.10.11"
  }
 },
 "nbformat": 4,
 "nbformat_minor": 2
}
